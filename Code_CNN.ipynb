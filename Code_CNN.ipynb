{
  "nbformat": 4,
  "nbformat_minor": 0,
  "metadata": {
    "colab": {
      "name": "Code_3.ipynb",
      "provenance": []
    },
    "kernelspec": {
      "name": "python3",
      "display_name": "Python 3"
    }
  },
  "cells": [
    {
      "cell_type": "code",
      "metadata": {
        "id": "OuBuMqDx9HvQ",
        "colab_type": "code",
        "colab": {}
      },
      "source": [
        "from __future__ import print_function\n",
        "import keras\n",
        "from keras.datasets import cifar10\n",
        "from keras.preprocessing.image import ImageDataGenerator\n",
        "from keras.models import Sequential\n",
        "from keras.layers import Dense, Activation, Flatten\n",
        "from keras.layers import Conv2D, MaxPooling2D\n",
        "import os"
      ],
      "execution_count": 0,
      "outputs": []
    },
    {
      "cell_type": "code",
      "metadata": {
        "id": "RK7DNdJC9Mza",
        "colab_type": "code",
        "colab": {}
      },
      "source": [
        "\n",
        "batch_size = 64\n",
        "num_classes = 10\n",
        "epochs = 50\n",
        "data_augmentation = True\n",
        "save_dir = os.path.join(os.getcwd(), 'saved_models')\n",
        "model_name = 'keras_cifar10_trained_model.h5'"
      ],
      "execution_count": 0,
      "outputs": []
    },
    {
      "cell_type": "code",
      "metadata": {
        "id": "yskz_3IL-wOD",
        "colab_type": "code",
        "outputId": "17d6cf4c-d734-4b31-ff99-c219e1d21175",
        "colab": {
          "base_uri": "https://localhost:8080/",
          "height": 67
        }
      },
      "source": [
        "# The data, split between train and test sets:\n",
        "(x_train, y_train), (x_test, y_test) = cifar10.load_data()\n",
        "print('x_train shape:', x_train.shape)\n",
        "print(x_train.shape[0], 'train samples')\n",
        "print(x_test.shape[0], 'test samples')\n",
        "\n",
        "# Convert class vectors to binary class matrices.\n",
        "y_train = keras.utils.to_categorical(y_train, num_classes)\n",
        "y_test = keras.utils.to_categorical(y_test, num_classes)"
      ],
      "execution_count": 17,
      "outputs": [
        {
          "output_type": "stream",
          "text": [
            "x_train shape: (50000, 32, 32, 3)\n",
            "50000 train samples\n",
            "10000 test samples\n"
          ],
          "name": "stdout"
        }
      ]
    },
    {
      "cell_type": "code",
      "metadata": {
        "id": "t0cdsvcIzzdb",
        "colab_type": "code",
        "colab": {}
      },
      "source": [
        "\n",
        "model = Sequential()\n",
        "model.add(Conv2D(32, (5, 5), padding='same',\n",
        "                 input_shape=x_train.shape[1:]))\n",
        "                 \n",
        "model.add(Activation('sigmoid'))\n",
        "model.add(MaxPooling2D(pool_size=(2, 2)))\n",
        "\n",
        "model.add(Conv2D(64, (3, 3), padding='same'))\n",
        "model.add(Activation('sigmoid'))\n",
        "model.add(MaxPooling2D(pool_size=(2, 2)))\n",
        "\n",
        "model.add(Flatten())\n",
        "model.add(Dense(512))\n",
        "model.add(Activation('sigmoid'))\n",
        "model.add(Dense(num_classes))\n",
        "model.add(Activation('softmax'))"
      ],
      "execution_count": 0,
      "outputs": []
    },
    {
      "cell_type": "code",
      "metadata": {
        "id": "AiKegG9I2Luz",
        "colab_type": "code",
        "outputId": "a89458a9-61f1-44f9-e2b0-128168197e6c",
        "colab": {
          "base_uri": "https://localhost:8080/",
          "height": 1000
        }
      },
      "source": [
        "from keras.optimizers import RMSprop\n",
        "model.compile(loss='categorical_crossentropy',\n",
        "              optimizer=RMSprop(),\n",
        "              metrics=['accuracy'])\n",
        "\n",
        "history = model.fit(x_train, y_train,\n",
        "                    batch_size=batch_size,\n",
        "                    epochs=epochs,\n",
        "                    verbose=1,\n",
        "                    validation_data=(x_test, y_test))\n",
        "score = model.evaluate(x_test, y_test, verbose=0)\n",
        "print('Test loss:', score[0])\n",
        "print('Test accuracy:', score[1])"
      ],
      "execution_count": 19,
      "outputs": [
        {
          "output_type": "stream",
          "text": [
            "Train on 50000 samples, validate on 10000 samples\n",
            "Epoch 1/50\n",
            "50000/50000 [==============================] - 121s 2ms/step - loss: 1.9043 - acc: 0.3088 - val_loss: 1.9119 - val_acc: 0.3347\n",
            "Epoch 2/50\n",
            "50000/50000 [==============================] - 120s 2ms/step - loss: 1.5178 - acc: 0.4523 - val_loss: 1.5019 - val_acc: 0.4461\n",
            "Epoch 3/50\n",
            "50000/50000 [==============================] - 119s 2ms/step - loss: 1.3265 - acc: 0.5253 - val_loss: 1.2653 - val_acc: 0.5478\n",
            "Epoch 4/50\n",
            "50000/50000 [==============================] - 119s 2ms/step - loss: 1.2144 - acc: 0.5692 - val_loss: 1.3143 - val_acc: 0.5315\n",
            "Epoch 5/50\n",
            "50000/50000 [==============================] - 119s 2ms/step - loss: 1.1152 - acc: 0.6039 - val_loss: 1.1796 - val_acc: 0.5802\n",
            "Epoch 6/50\n",
            "50000/50000 [==============================] - 119s 2ms/step - loss: 1.0384 - acc: 0.6306 - val_loss: 1.1832 - val_acc: 0.5829\n",
            "Epoch 7/50\n",
            "50000/50000 [==============================] - 120s 2ms/step - loss: 0.9612 - acc: 0.6601 - val_loss: 1.1562 - val_acc: 0.5902\n",
            "Epoch 8/50\n",
            "50000/50000 [==============================] - 120s 2ms/step - loss: 0.8818 - acc: 0.6881 - val_loss: 1.3340 - val_acc: 0.5322\n",
            "Epoch 9/50\n",
            "50000/50000 [==============================] - 120s 2ms/step - loss: 0.8224 - acc: 0.7112 - val_loss: 1.2184 - val_acc: 0.5814\n",
            "Epoch 10/50\n",
            "50000/50000 [==============================] - 120s 2ms/step - loss: 0.7516 - acc: 0.7334 - val_loss: 1.1385 - val_acc: 0.6100\n",
            "Epoch 11/50\n",
            "50000/50000 [==============================] - 120s 2ms/step - loss: 0.6955 - acc: 0.7555 - val_loss: 1.0615 - val_acc: 0.6352\n",
            "Epoch 12/50\n",
            "50000/50000 [==============================] - 119s 2ms/step - loss: 0.6286 - acc: 0.7808 - val_loss: 1.1273 - val_acc: 0.6314\n",
            "Epoch 13/50\n",
            "50000/50000 [==============================] - 119s 2ms/step - loss: 0.5629 - acc: 0.8045 - val_loss: 1.0409 - val_acc: 0.6613\n",
            "Epoch 14/50\n",
            "50000/50000 [==============================] - 120s 2ms/step - loss: 0.5000 - acc: 0.8266 - val_loss: 1.1158 - val_acc: 0.6337\n",
            "Epoch 15/50\n",
            "50000/50000 [==============================] - 120s 2ms/step - loss: 0.4408 - acc: 0.8483 - val_loss: 1.2099 - val_acc: 0.6310\n",
            "Epoch 16/50\n",
            "50000/50000 [==============================] - 120s 2ms/step - loss: 0.3826 - acc: 0.8717 - val_loss: 1.1810 - val_acc: 0.6501\n",
            "Epoch 17/50\n",
            "50000/50000 [==============================] - 119s 2ms/step - loss: 0.3308 - acc: 0.8905 - val_loss: 1.0839 - val_acc: 0.6729\n",
            "Epoch 18/50\n",
            "50000/50000 [==============================] - 119s 2ms/step - loss: 0.2871 - acc: 0.9051 - val_loss: 1.2142 - val_acc: 0.6586\n",
            "Epoch 19/50\n",
            "50000/50000 [==============================] - 119s 2ms/step - loss: 0.2399 - acc: 0.9227 - val_loss: 1.1001 - val_acc: 0.6868\n",
            "Epoch 20/50\n",
            "50000/50000 [==============================] - 119s 2ms/step - loss: 0.2065 - acc: 0.9353 - val_loss: 1.1712 - val_acc: 0.6683\n",
            "Epoch 21/50\n",
            "50000/50000 [==============================] - 119s 2ms/step - loss: 0.1756 - acc: 0.9461 - val_loss: 1.1744 - val_acc: 0.6732\n",
            "Epoch 22/50\n",
            "50000/50000 [==============================] - 120s 2ms/step - loss: 0.1459 - acc: 0.9554 - val_loss: 1.3723 - val_acc: 0.6634\n",
            "Epoch 23/50\n",
            "50000/50000 [==============================] - 121s 2ms/step - loss: 0.1372 - acc: 0.9568 - val_loss: 1.2787 - val_acc: 0.6638\n",
            "Epoch 24/50\n",
            "50000/50000 [==============================] - 121s 2ms/step - loss: 0.1163 - acc: 0.9643 - val_loss: 1.2919 - val_acc: 0.6706\n",
            "Epoch 25/50\n",
            "50000/50000 [==============================] - 120s 2ms/step - loss: 0.0977 - acc: 0.9713 - val_loss: 1.2677 - val_acc: 0.6752\n",
            "Epoch 26/50\n",
            "50000/50000 [==============================] - 121s 2ms/step - loss: 0.0851 - acc: 0.9741 - val_loss: 1.3731 - val_acc: 0.6684\n",
            "Epoch 27/50\n",
            "50000/50000 [==============================] - 120s 2ms/step - loss: 0.0793 - acc: 0.9758 - val_loss: 1.5440 - val_acc: 0.6422\n",
            "Epoch 28/50\n",
            "50000/50000 [==============================] - 121s 2ms/step - loss: 0.0748 - acc: 0.9776 - val_loss: 1.3646 - val_acc: 0.6850\n",
            "Epoch 29/50\n",
            "50000/50000 [==============================] - 121s 2ms/step - loss: 0.0685 - acc: 0.9793 - val_loss: 1.4455 - val_acc: 0.6868\n",
            "Epoch 30/50\n",
            "50000/50000 [==============================] - 120s 2ms/step - loss: 0.0607 - acc: 0.9814 - val_loss: 1.4829 - val_acc: 0.6717\n",
            "Epoch 31/50\n",
            "50000/50000 [==============================] - 121s 2ms/step - loss: 0.0580 - acc: 0.9826 - val_loss: 1.6542 - val_acc: 0.6619\n",
            "Epoch 32/50\n",
            "50000/50000 [==============================] - 121s 2ms/step - loss: 0.0545 - acc: 0.9832 - val_loss: 1.5330 - val_acc: 0.6778\n",
            "Epoch 33/50\n",
            "50000/50000 [==============================] - 120s 2ms/step - loss: 0.0539 - acc: 0.9832 - val_loss: 1.6230 - val_acc: 0.6737\n",
            "Epoch 34/50\n",
            "50000/50000 [==============================] - 120s 2ms/step - loss: 0.0481 - acc: 0.9854 - val_loss: 1.5657 - val_acc: 0.6770\n",
            "Epoch 35/50\n",
            "50000/50000 [==============================] - 120s 2ms/step - loss: 0.0466 - acc: 0.9853 - val_loss: 1.5930 - val_acc: 0.6798\n",
            "Epoch 36/50\n",
            "50000/50000 [==============================] - 121s 2ms/step - loss: 0.0471 - acc: 0.9849 - val_loss: 1.5752 - val_acc: 0.6813\n",
            "Epoch 37/50\n",
            "50000/50000 [==============================] - 121s 2ms/step - loss: 0.0477 - acc: 0.9849 - val_loss: 1.7409 - val_acc: 0.6558\n",
            "Epoch 38/50\n",
            "50000/50000 [==============================] - 120s 2ms/step - loss: 0.0449 - acc: 0.9859 - val_loss: 1.6978 - val_acc: 0.6771\n",
            "Epoch 39/50\n",
            "50000/50000 [==============================] - 121s 2ms/step - loss: 0.0462 - acc: 0.9857 - val_loss: 1.6867 - val_acc: 0.6735\n",
            "Epoch 40/50\n",
            "50000/50000 [==============================] - 120s 2ms/step - loss: 0.0419 - acc: 0.9867 - val_loss: 2.0629 - val_acc: 0.6364\n",
            "Epoch 41/50\n",
            "50000/50000 [==============================] - 120s 2ms/step - loss: 0.0403 - acc: 0.9876 - val_loss: 1.8766 - val_acc: 0.6422\n",
            "Epoch 42/50\n",
            "50000/50000 [==============================] - 120s 2ms/step - loss: 0.0405 - acc: 0.9872 - val_loss: 1.7486 - val_acc: 0.6743\n",
            "Epoch 43/50\n",
            "50000/50000 [==============================] - 120s 2ms/step - loss: 0.0347 - acc: 0.9896 - val_loss: 1.9316 - val_acc: 0.6663\n",
            "Epoch 44/50\n",
            "50000/50000 [==============================] - 120s 2ms/step - loss: 0.0353 - acc: 0.9888 - val_loss: 1.7335 - val_acc: 0.6812\n",
            "Epoch 45/50\n",
            "50000/50000 [==============================] - 119s 2ms/step - loss: 0.0339 - acc: 0.9893 - val_loss: 1.8037 - val_acc: 0.6620\n",
            "Epoch 46/50\n",
            "50000/50000 [==============================] - 120s 2ms/step - loss: 0.0309 - acc: 0.9904 - val_loss: 1.9264 - val_acc: 0.6667\n",
            "Epoch 47/50\n",
            "50000/50000 [==============================] - 121s 2ms/step - loss: 0.0319 - acc: 0.9898 - val_loss: 1.7963 - val_acc: 0.6723\n",
            "Epoch 48/50\n",
            "50000/50000 [==============================] - 121s 2ms/step - loss: 0.0323 - acc: 0.9894 - val_loss: 1.9048 - val_acc: 0.6769\n",
            "Epoch 49/50\n",
            "50000/50000 [==============================] - 120s 2ms/step - loss: 0.0302 - acc: 0.9900 - val_loss: 1.8551 - val_acc: 0.6692\n",
            "Epoch 50/50\n",
            "50000/50000 [==============================] - 121s 2ms/step - loss: 0.0274 - acc: 0.9912 - val_loss: 1.8793 - val_acc: 0.6781\n",
            "Test loss: 1.8793384117126466\n",
            "Test accuracy: 0.6781\n"
          ],
          "name": "stdout"
        }
      ]
    },
    {
      "cell_type": "code",
      "metadata": {
        "id": "WvZ_e5hHTfvN",
        "colab_type": "code",
        "outputId": "ea4b1e54-d01e-4f8f-e91b-dd069edb1eec",
        "colab": {
          "base_uri": "https://localhost:8080/",
          "height": 34
        }
      },
      "source": [
        "print(\"Accuracy: %.2f%%\" % (score[1]*100))"
      ],
      "execution_count": 20,
      "outputs": [
        {
          "output_type": "stream",
          "text": [
            "Accuracy: 67.81%\n"
          ],
          "name": "stdout"
        }
      ]
    },
    {
      "cell_type": "code",
      "metadata": {
        "id": "iaPNigYVei0t",
        "colab_type": "code",
        "colab": {
          "base_uri": "https://localhost:8080/",
          "height": 573
        },
        "outputId": "25a97972-ef67-4d73-e73b-9d9ab2e53339"
      },
      "source": [
        "import numpy as np\n",
        "import matplotlib.pyplot as plt\n",
        "from matplotlib import pyplot\n",
        "\n",
        "fig = plt.figure()\n",
        "plt.plot(history.history['acc'])\n",
        "plt.plot(history.history['val_acc'])\n",
        "plt.legend(['training', 'validation accuracy'], loc = 'upper left')\n",
        "plt.title('training and validation accuracy')\n",
        "plt.ylabel('training and validation accuracy')\n",
        "plt.xlabel('epoch')\n",
        "plt.show()\n",
        "fig.savefig('train_val_acc_01_01.png')\n",
        "\n",
        "\n",
        "fig = plt.figure()\n",
        "plt.plot(history.history['loss'])\n",
        "plt.plot(history.history['val_loss'])\n",
        "plt.legend(['training', 'validation loss'], loc = 'upper left')\n",
        "plt.title('training and validation loss')\n",
        "plt.ylabel('training and validation loss')\n",
        "plt.xlabel('epoch')\n",
        "plt.show()\n",
        "fig.savefig('train_val_loss_01_01.png')\n",
        "\n"
      ],
      "execution_count": 22,
      "outputs": [
        {
          "output_type": "display_data",
          "data": {
            "image/png": "[encoded data removed]",
            "text/plain": [
              "<Figure size 432x288 with 1 Axes>"
            ]
          },
          "metadata": {
            "tags": []
          }
        },
        {
          "output_type": "display_data",
          "data": {
            "image/png": "[encoded data removed]",
            "text/plain": [
              "<Figure size 432x288 with 1 Axes>"
            ]
          },
          "metadata": {
            "tags": []
          }
        }
      ]
    }
  ]
}
